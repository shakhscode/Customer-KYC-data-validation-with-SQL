{
 "cells": [
  {
   "cell_type": "code",
   "execution_count": 2,
   "metadata": {},
   "outputs": [],
   "source": [
    "# import the required libraries\n",
    "import numpy as np\n",
    "import pandas as pd\n",
    "import psycopg2 as pg2\n",
    "from psycopg2 import sql"
   ]
  },
  {
   "cell_type": "markdown",
   "metadata": {},
   "source": [
    "### Connect to the Azure PostGRE SQL server\n"
   ]
  },
  {
   "cell_type": "code",
   "execution_count": 3,
   "metadata": {},
   "outputs": [],
   "source": [
    "# set the required names and passwords\n",
    "host = \"azureps1.postgres.database.azure.com\"\n",
    "dbname = \"datavalidation\"\n",
    "user = \"admin_azureps1\"\n",
    "password = \"************\"\n",
    "sslmode = \"require\""
   ]
  },
  {
   "cell_type": "code",
   "execution_count": 4,
   "metadata": {},
   "outputs": [
    {
     "name": "stdout",
     "output_type": "stream",
     "text": [
      "Connection established\n"
     ]
    }
   ],
   "source": [
    "# Construct connection string\n",
    "\n",
    "conn_string = \"host={0} user={1} dbname={2} password={3} sslmode={4}\".format(host, user, dbname, password, sslmode)\n",
    "conn = pg2.connect(conn_string)\n",
    "print(\"Connection established\")\n",
    "\n",
    "cursor = conn.cursor()\n"
   ]
  },
  {
   "cell_type": "code",
   "execution_count": 8,
   "metadata": {},
   "outputs": [
    {
     "data": {
      "text/plain": [
       "[(2, 'testinput')]"
      ]
     },
     "execution_count": 8,
     "metadata": {},
     "output_type": "execute_result"
    }
   ],
   "source": [
    "#just to check whether connection is working or not\n",
    "q1 = sql.SQL(\"select * from test1\")\n",
    "cursor.execute(q1)\n",
    "rows = cursor.fetchall()\n",
    "rows"
   ]
  },
  {
   "cell_type": "markdown",
   "metadata": {},
   "source": [
    "### Import the dataset and create a dynamic table"
   ]
  },
  {
   "cell_type": "code",
   "execution_count": 12,
   "metadata": {},
   "outputs": [
    {
     "data": {
      "text/plain": [
       "'Table has been created and columns are added successfuly'"
      ]
     },
     "execution_count": 12,
     "metadata": {},
     "output_type": "execute_result"
    }
   ],
   "source": [
    "df = pd.read_csv('customerKYC.csv')  #import the dataset\n",
    "cols = list(df.columns.values)       # Extract the column names as a list\n",
    "datatypes = list(df.dtypes)          ## Extract the column data types as a list\n",
    "\n",
    "def createTable(table_name, allcolumns, alldatatypes):\n",
    "    fields = []\n",
    "    for i in range(len(allcolumns)):\n",
    "        columnName = allcolumns[i]\n",
    "        coldatatype = str(alldatatypes[i])\n",
    "\n",
    "        if coldatatype == 'int64':\n",
    "            coldatatype = 'int'\n",
    "        elif coldatatype == 'float64':\n",
    "            coldatatype = 'float'\n",
    "        else:\n",
    "            coldatatype = 'varchar' \n",
    "        \n",
    "\n",
    "        fields.append( sql.SQL( \"{} {}\" ).format( sql.Identifier(columnName), sql.SQL(coldatatype) ) )\n",
    "\n",
    "        #This field will contain all columns as (columnName, columnDatatype) tuple\n",
    "\n",
    "    #Write the query to create the table\n",
    "    qry = sql.SQL( \"CREATE TABLE {tbl_name} ( {columnsAndDatatype} );\" ).format(\n",
    "        tbl_name = sql.Identifier( table_name ),\n",
    "        columnsAndDatatype = sql.SQL( ', ' ).join( fields ))\n",
    "\n",
    "    #Execute the query\n",
    "    cursor.execute(qry)\n",
    "\n",
    "    return 'Table has been created and columns are added successfuly'\n",
    "\n",
    "\n",
    "createTable(table_name='kyc_data', allcolumns=cols,alldatatypes=datatypes)\n"
   ]
  },
  {
   "cell_type": "markdown",
   "metadata": {},
   "source": [
    "### Commit the changes"
   ]
  },
  {
   "cell_type": "code",
   "execution_count": 13,
   "metadata": {},
   "outputs": [],
   "source": [
    "conn.commit()"
   ]
  },
  {
   "cell_type": "markdown",
   "metadata": {},
   "source": [
    "### Close the cursor and close the connection"
   ]
  },
  {
   "cell_type": "code",
   "execution_count": 19,
   "metadata": {},
   "outputs": [],
   "source": [
    "conn.close()\n",
    "cursor.close()"
   ]
  }
 ],
 "metadata": {
  "kernelspec": {
   "display_name": "Python 3.8.10 64-bit",
   "language": "python",
   "name": "python3"
  },
  "language_info": {
   "codemirror_mode": {
    "name": "ipython",
    "version": 3
   },
   "file_extension": ".py",
   "mimetype": "text/x-python",
   "name": "python",
   "nbconvert_exporter": "python",
   "pygments_lexer": "ipython3",
   "version": "3.8.10"
  },
  "orig_nbformat": 4,
  "vscode": {
   "interpreter": {
    "hash": "31f2aee4e71d21fbe5cf8b01ff0e069b9275f58929596ceb00d14d90e3e16cd6"
   }
  }
 },
 "nbformat": 4,
 "nbformat_minor": 2
}
